{
 "cells": [
  {
   "cell_type": "code",
   "execution_count": 2,
   "id": "e3bc7a24-81d7-40c3-a0f3-a9ebfd7a0ca3",
   "metadata": {},
   "outputs": [],
   "source": [
    "# import librairies\n",
    "\n",
    "from bs4 import BeautifulSoup\n",
    "import requests\n",
    "import smtplib\n",
    "import time\n",
    "import datetime"
   ]
  },
  {
   "cell_type": "code",
   "execution_count": 62,
   "id": "be322ecc-439d-44a4-8e26-2093471fe880",
   "metadata": {},
   "outputs": [
    {
     "name": "stdout",
     "output_type": "stream",
     "text": [
      "GOT données ? Funny Adulte T-shirt pour homme\n",
      "33,11\n"
     ]
    },
    {
     "data": {
      "text/plain": [
       "str"
      ]
     },
     "execution_count": 62,
     "metadata": {},
     "output_type": "execute_result"
    }
   ],
   "source": [
    "# Connect to website\n",
    "\n",
    "URL = 'https://www.amazon.ca/-/fr/donn%C3%A9es-Funny-Adulte-T-shirt-homme/dp/B00FQJG432/ref=sr_1_14?__mk_fr_CA=%C3%85M%C3%85%C5%BD%C3%95%C3%91&crid=3KHCKJNQSPNVD&dib=eyJ2IjoiMSJ9.r1Fzq36Vdm6bO3faNU2GiFbEDTKzQGwwP_eaH3xD2tWcvdsCLOI5k7EvY2Q_JBD54T9rtvDsCjHnxT1oAfhEHTXpeA-umxpz_zn3rLW6IQoZAd3utX6jXq7OHSw6ixD2VBNJyi8JdNdEt2uXTnuCtUnSi38q5T9xoaQL_YyZzZXNdV6Ns1eiGXgX-fn0dGTlcQus9VXayyLrtDBygqobM9YmUaAayzrvn9jVykTUkbheXi-4TmZFnLkIKHF7hcn-gxBkQkes0JBX1qrW4EWLXtqCrxQ2yhqIijSpxfWInhQ.oAkIMu2O0sxsCor-kKgG6v969oNyqdYt0NUAaG8r8mA&dib_tag=se&keywords=funny%2Bdata%2Bt-shirt&qid=1722357346&sprefix=funny%2Bdata%2Bt-shirt%2Caps%2C94&sr=8-14&th=1'\n",
    "\n",
    "headers = {\"User-Agent\": \"Mozilla/5.0 (Macintosh; Intel Mac OS X 10_15_7) AppleWebKit/537.36 (KHTML, like Gecko) Chrome/127.0.0.0 Safari/537.36\", \"Accept-Encoding\":\"gzip, deflate\", \"Accept\":\"text/html,application/xhtml+xml,application/xml;q=0.9,*/*;q=0.8\", \"DNT\":\"1\",\"Connection\":\"close\", \"Upgrade-Insecure-Requests\":\"1\"}\n",
    "\n",
    "page = requests.get(URL, headers=headers)\n",
    "\n",
    "soup1 = BeautifulSoup(page.content, \"html.parser\")\n",
    "\n",
    "soup2 = BeautifulSoup(soup1.prettify(), \"html.parser\")\n",
    "\n",
    "title = soup2.find(id='productTitle').get_text(strip=True)\n",
    "price = soup2.find('span', class_='a-offscreen').get_text(strip=True)\n",
    "price_without_sign = price[:-1] if price.endswith('$') else price\n",
    "\n",
    "\n",
    "print(title)\n",
    "print(price_without_sign)\n",
    "type(price)"
   ]
  },
  {
   "cell_type": "code",
   "execution_count": 76,
   "id": "dc66e758-dc68-468e-9fce-ebbe23cc3bb6",
   "metadata": {},
   "outputs": [
    {
     "name": "stdout",
     "output_type": "stream",
     "text": [
      "2024-07-30\n"
     ]
    }
   ],
   "source": [
    "import datetime\n",
    "\n",
    "today = datetime.date.today()\n",
    "\n",
    "print(today)"
   ]
  },
  {
   "cell_type": "code",
   "execution_count": 78,
   "id": "a37536dc-63e5-4d69-b984-27c5c3d4a8f4",
   "metadata": {},
   "outputs": [],
   "source": [
    "import csv\n",
    "\n",
    "header = ['Title', 'Price', 'Date']\n",
    "data = [title, price_without_sign, today]\n",
    "\n",
    "#with open('AmazonWebScraperDataset.csv', 'w', newline='', encoding='UTF8') as f:\n",
    "    #writer = csv.writer(f)\n",
    "    #writer.writerow(header)\n",
    "    #writer.writerow(data)\n",
    "    "
   ]
  },
  {
   "cell_type": "code",
   "execution_count": 86,
   "id": "95f30f2b-5507-4281-9e83-fbad0bc3e76c",
   "metadata": {},
   "outputs": [
    {
     "name": "stdout",
     "output_type": "stream",
     "text": [
      "                                           Title  Price        Date\n",
      "0  GOT données ? Funny Adulte T-shirt pour homme  33,11  2024-07-30\n",
      "1  GOT données ? Funny Adulte T-shirt pour homme  33,11  2024-07-30\n",
      "2  GOT données ? Funny Adulte T-shirt pour homme  33,11  2024-07-30\n"
     ]
    }
   ],
   "source": [
    "import pandas as pd\n",
    "\n",
    "df = pd.read_csv('/Users/guillaumelagace/AmazonWebScraperDataset.csv')\n",
    "\n",
    "print(df)"
   ]
  },
  {
   "cell_type": "code",
   "execution_count": 84,
   "id": "00524ad2-b3ff-43be-896a-8b13b5ee8655",
   "metadata": {},
   "outputs": [],
   "source": [
    "# Now let's try to append data to the csv\n",
    "\n",
    "with open('AmazonWebScraperDataset.csv', 'a+', newline='', encoding='UTF8') as f:\n",
    "    writer = csv.writer(f)\n",
    "    writer.writerow(data)"
   ]
  },
  {
   "cell_type": "code",
   "execution_count": 104,
   "id": "ee3c03fc-28b1-4f9d-9643-a89a174fb08f",
   "metadata": {},
   "outputs": [],
   "source": [
    "\n",
    "def check_price():\n",
    "    URL = 'https://www.amazon.ca/-/fr/donn%C3%A9es-Funny-Adulte-T-shirt-homme/dp/B00FQJG432/ref=sr_1_14?__mk_fr_CA=%C3%85M%C3%85%C5%BD%C3%95%C3%91&crid=3KHCKJNQSPNVD&dib=eyJ2IjoiMSJ9.r1Fzq36Vdm6bO3faNU2GiFbEDTKzQGwwP_eaH3xD2tWcvdsCLOI5k7EvY2Q_JBD54T9rtvDsCjHnxT1oAfhEHTXpeA-umxpz_zn3rLW6IQoZAd3utX6jXq7OHSw6ixD2VBNJyi8JdNdEt2uXTnuCtUnSi38q5T9xoaQL_YyZzZXNdV6Ns1eiGXgX-fn0dGTlcQus9VXayyLrtDBygqobM9YmUaAayzrvn9jVykTUkbheXi-4TmZFnLkIKHF7hcn-gxBkQkes0JBX1qrW4EWLXtqCrxQ2yhqIijSpxfWInhQ.oAkIMu2O0sxsCor-kKgG6v969oNyqdYt0NUAaG8r8mA&dib_tag=se&keywords=funny%2Bdata%2Bt-shirt&qid=1722357346&sprefix=funny%2Bdata%2Bt-shirt%2Caps%2C94&sr=8-14&th=1'\n",
    "\n",
    "    headers = {\"User-Agent\": \"Mozilla/5.0 (Macintosh; Intel Mac OS X 10_15_7) AppleWebKit/537.36 (KHTML, like Gecko) Chrome/127.0.0.0 Safari/537.36\", \"Accept-Encoding\":\"gzip, deflate\", \"Accept\":\"text/html,application/xhtml+xml,application/xml;q=0.9,*/*;q=0.8\", \"DNT\":\"1\",\"Connection\":\"close\", \"Upgrade-Insecure-Requests\":\"1\"}\n",
    "\n",
    "    page = requests.get(URL, headers=headers)\n",
    "    \n",
    "    soup1 = BeautifulSoup(page.content, \"html.parser\")\n",
    "    \n",
    "    soup2 = BeautifulSoup(soup1.prettify(), \"html.parser\")\n",
    "    \n",
    "    title = soup2.find(id='productTitle').get_text(strip=True)\n",
    "    price = soup2.find('span', class_='a-offscreen').get_text(strip=True)\n",
    "    price_without_sign = price[:-1] if price.endswith('$') else price\n",
    "    \n",
    "    import datetime\n",
    "    \n",
    "    today = datetime.date.today()\n",
    "    \n",
    "    import csv\n",
    "    \n",
    "    header = ['Title', 'Price', 'Date']\n",
    "    data = [title, price_without_sign, today]\n",
    "    \n",
    "    with open('AmazonWebScraperDataset.csv', 'a+', newline='', encoding='UTF8') as f:\n",
    "        writer = csv.writer(f)\n",
    "        writer.writerow(data)\n",
    "\n",
    "    if(price < 14):\n",
    "        send_mail()"
   ]
  },
  {
   "cell_type": "code",
   "execution_count": 90,
   "id": "c28dcb9c-0602-49a7-b9c5-16bd1bb15d0e",
   "metadata": {},
   "outputs": [
    {
     "ename": "KeyboardInterrupt",
     "evalue": "",
     "output_type": "error",
     "traceback": [
      "\u001b[0;31m---------------------------------------------------------------------------\u001b[0m",
      "\u001b[0;31mKeyboardInterrupt\u001b[0m                         Traceback (most recent call last)",
      "Cell \u001b[0;32mIn[90], line 3\u001b[0m\n\u001b[1;32m      1\u001b[0m \u001b[38;5;28;01mwhile\u001b[39;00m(\u001b[38;5;28;01mTrue\u001b[39;00m):\n\u001b[1;32m      2\u001b[0m     check_price()\n\u001b[0;32m----> 3\u001b[0m     time\u001b[38;5;241m.\u001b[39msleep(\u001b[38;5;241m5\u001b[39m)\n",
      "\u001b[0;31mKeyboardInterrupt\u001b[0m: "
     ]
    }
   ],
   "source": [
    "# Check the item's price every day\n",
    "while(True):\n",
    "    check_price()\n",
    "    time.sleep(86400)"
   ]
  },
  {
   "cell_type": "code",
   "execution_count": 100,
   "id": "7edee5ad-c651-4d55-ad8c-d68b9e595a10",
   "metadata": {},
   "outputs": [
    {
     "name": "stdout",
     "output_type": "stream",
     "text": [
      "                                           Title  Price        Date\n",
      "0  GOT données ? Funny Adulte T-shirt pour homme  33,11  2024-07-30\n",
      "1  GOT données ? Funny Adulte T-shirt pour homme  33,11  2024-07-30\n",
      "2  GOT données ? Funny Adulte T-shirt pour homme  33,11  2024-07-30\n",
      "3  GOT données ? Funny Adulte T-shirt pour homme  33,11  2024-07-30\n",
      "4  GOT données ? Funny Adulte T-shirt pour homme  33,11  2024-07-30\n",
      "5  GOT données ? Funny Adulte T-shirt pour homme  33,11  2024-07-30\n",
      "6  GOT données ? Funny Adulte T-shirt pour homme  33,11  2024-07-30\n"
     ]
    }
   ],
   "source": [
    "import pandas as pd\n",
    "\n",
    "df = pd.read_csv('/Users/guillaumelagace/AmazonWebScraperDataset.csv')\n",
    "\n",
    "print(df)"
   ]
  },
  {
   "cell_type": "code",
   "execution_count": 102,
   "id": "ef5eb4df-e704-44cd-b713-d48ac3f087ac",
   "metadata": {},
   "outputs": [],
   "source": [
    "# Function to send an email\n",
    "def send_mail():\n",
    "    server = smtplib.SMTP_SSL('smtp.gmail.com',465)\n",
    "    server.ehlo()\n",
    "    #server.starttls()\n",
    "    server.ehlo()\n",
    "    server.login('guillaumelagace514@gmail.com','xxxxxxxxxxxxxx')\n",
    "    \n",
    "    subject = \"The Shirt you want is below $15! Now is your chance to buy!\"\n",
    "    body = \"Gui, This is the moment we have been waiting for. Now is your chance to pick up the shirt of your dreams. Don't mess it up! Link here: https://www.amazon.ca/-/fr/donn%C3%A9es-Funny-Adulte-T-shirt-homme/dp/B00FQJG432/ref=sr_1_14?__mk_fr_CA=%C3%85M%C3%85%C5%BD%C3%95%C3%91&crid=3KHCKJNQSPNVD&dib=eyJ2IjoiMSJ9.r1Fzq36Vdm6bO3faNU2GiFbEDTKzQGwwP_eaH3xD2tWcvdsCLOI5k7EvY2Q_JBD54T9rtvDsCjHnxT1oAfhEHTXpeA-umxpz_zn3rLW6IQoZAd3utX6jXq7OHSw6ixD2VBNJyi8JdNdEt2uXTnuCtUnSi38q5T9xoaQL_YyZzZXNdV6Ns1eiGXgX-fn0dGTlcQus9VXayyLrtDBygqobM9YmUaAayzrvn9jVykTUkbheXi-4TmZFnLkIKHF7hcn-gxBkQkes0JBX1qrW4EWLXtqCrxQ2yhqIijSpxfWInhQ.oAkIMu2O0sxsCor-kKgG6v969oNyqdYt0NUAaG8r8mA&dib_tag=se&keywords=funny%2Bdata%2Bt-shirt&qid=1722357346&sprefix=funny%2Bdata%2Bt-shirt%2Caps%2C94&sr=8-14&th=1\"\n",
    "   \n",
    "    msg = f\"Subject: {subject}\\n\\n{body}\"\n",
    "    \n",
    "    server.sendmail(\n",
    "        'guillaumelagace514@gmail.com',\n",
    "        msg\n",
    "     \n",
    "    )"
   ]
  }
 ],
 "metadata": {
  "kernelspec": {
   "display_name": "Python 3 (ipykernel)",
   "language": "python",
   "name": "python3"
  },
  "language_info": {
   "codemirror_mode": {
    "name": "ipython",
    "version": 3
   },
   "file_extension": ".py",
   "mimetype": "text/x-python",
   "name": "python",
   "nbconvert_exporter": "python",
   "pygments_lexer": "ipython3",
   "version": "3.12.4"
  }
 },
 "nbformat": 4,
 "nbformat_minor": 5
}
